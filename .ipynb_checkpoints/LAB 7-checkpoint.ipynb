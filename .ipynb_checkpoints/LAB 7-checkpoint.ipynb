{
 "cells": [
  {
   "cell_type": "code",
   "execution_count": 3,
   "metadata": {
    "colab": {
     "base_uri": "https://localhost:8080/"
    },
    "id": "yjqtb5EGu5nY",
    "outputId": "05979d1f-87d4-457f-ba99-568f56198f2a"
   },
   "outputs": [
    {
     "name": "stdout",
     "output_type": "stream",
     "text": [
      "[[0.29622909]\n",
      " [0.56309569]\n",
      " [0.59564135]\n",
      " [0.57850974]]\n"
     ]
    }
   ],
   "source": [
    "import numpy as np\n",
    "\n",
    "class NeuralNetwork:\n",
    "    def __init__(self, alpha=0.1):\n",
    "        self.alpha = alpha\n",
    "        self.W1 = np.random.randn(2, 2)  # Input to hidden\n",
    "        self.W2 = np.random.randn(2, 1)  # Hidden to output\n",
    "\n",
    "    def sigmoid(self, x, deriv=False):\n",
    "        if deriv:\n",
    "            return x * (1 - x)\n",
    "        return 1 / (1 + np.exp(-x))\n",
    "\n",
    "    def forward(self, X):\n",
    "        self.z1 = np.dot(X, self.W1)\n",
    "        self.a1 = self.sigmoid(self.z1)\n",
    "        self.z2 = np.dot(self.a1, self.W2)\n",
    "        return self.sigmoid(self.z2)\n",
    "\n",
    "    def backward(self, X, y, output):\n",
    "        # Output layer error\n",
    "        error2 = (output - y)\n",
    "        delta2 = error2 * self.sigmoid(output, deriv=True)\n",
    "\n",
    "        # Hidden layer error\n",
    "        error1 = delta2.dot(self.W2.T)\n",
    "        delta1 = error1 * self.sigmoid(self.a1, deriv=True)\n",
    "\n",
    "        # Weight updates\n",
    "        self.W2 -= self.alpha * self.a1.T.dot(delta2)\n",
    "        self.W1 -= self.alpha * X.T.dot(delta1)\n",
    "\n",
    "    def train(self, X, y, epochs=1000):\n",
    "        for _ in range(epochs):\n",
    "            output = self.forward(X)\n",
    "            self.backward(X, y, output)\n",
    "\n",
    "# XOR dataset\n",
    "X = np.array([[0,0], [0,1], [1,0], [1,1]])\n",
    "y = np.array([[0], [1], [1], [0]])\n",
    "\n",
    "# Train network\n",
    "nn = NeuralNetwork(alpha=0.5)\n",
    "nn.train(X, y)\n",
    "\n",
    "# Test predictions\n",
    "print(nn.forward(X))"
   ]
  },
  {
   "cell_type": "code",
   "execution_count": 4,
   "metadata": {},
   "outputs": [
    {
     "name": "stdout",
     "output_type": "stream",
     "text": [
      "NAND predictions:\n",
      "[[0.99]\n",
      " [0.89]\n",
      " [0.9 ]\n",
      " [0.53]]\n"
     ]
    }
   ],
   "source": [
    "# NAND dataset\n",
    "X = np.array([[0,0], [0,1], [1,0], [1,1]])\n",
    "y = np.array([[1], [1], [1], [0]])  # NAND truth table\n",
    "\n",
    "nn = NeuralNetwork(alpha=0.5)\n",
    "nn.train(X, y)\n",
    "print(\"NAND predictions:\")\n",
    "print(np.round(nn.forward(X), 2))"
   ]
  },
  {
   "cell_type": "code",
   "execution_count": 5,
   "metadata": {},
   "outputs": [
    {
     "name": "stdout",
     "output_type": "stream",
     "text": [
      "NOR predictions:\n",
      "[[0.9 ]\n",
      " [0.05]\n",
      " [0.05]\n",
      " [0.03]]\n"
     ]
    }
   ],
   "source": [
    "# NOR dataset\n",
    "X = np.array([[0,0], [0,1], [1,0], [1,1]])\n",
    "y = np.array([[1], [0], [0], [0]])  # NOR truth table\n",
    "\n",
    "nn = NeuralNetwork(alpha=0.5)\n",
    "nn.train(X, y)\n",
    "print(\"NOR predictions:\")\n",
    "print(np.round(nn.forward(X), 2))"
   ]
  },
  {
   "cell_type": "code",
   "execution_count": 6,
   "metadata": {},
   "outputs": [
    {
     "name": "stdout",
     "output_type": "stream",
     "text": [
      "AND predictions:\n",
      "[[0.01]\n",
      " [0.07]\n",
      " [0.08]\n",
      " [0.48]]\n"
     ]
    }
   ],
   "source": [
    "# AND dataset\n",
    "X = np.array([[0,0], [0,1], [1,0], [1,1]])\n",
    "y = np.array([[0], [0], [0], [1]])  # AND truth table\n",
    "\n",
    "nn = NeuralNetwork(alpha=0.5)\n",
    "nn.train(X, y)\n",
    "print(\"AND predictions:\")\n",
    "print(np.round(nn.forward(X), 2))"
   ]
  },
  {
   "cell_type": "code",
   "execution_count": 7,
   "metadata": {},
   "outputs": [
    {
     "name": "stdout",
     "output_type": "stream",
     "text": [
      "OR predictions:\n",
      "[[0.1 ]\n",
      " [0.95]\n",
      " [0.95]\n",
      " [0.97]]\n"
     ]
    }
   ],
   "source": [
    "# OR dataset\n",
    "X = np.array([[0,0], [0,1], [1,0], [1,1]])\n",
    "y = np.array([[0], [1], [1], [1]])  # OR truth table\n",
    "\n",
    "nn = NeuralNetwork(alpha=0.5)\n",
    "nn.train(X, y)\n",
    "print(\"OR predictions:\")\n",
    "print(np.round(nn.forward(X), 2))\n"
   ]
  },
  {
   "cell_type": "code",
   "execution_count": 9,
   "metadata": {},
   "outputs": [],
   "source": [
    "import numpy as np\n",
    "\n",
    "class DeepNeuralNetwork:\n",
    "    def __init__(self, alpha=0.1):\n",
    "        self.alpha = alpha\n",
    "        # Initialize weights for 2 hidden layers\n",
    "        self.W1 = np.random.randn(2, 4)   # Input to Hidden Layer 1 (2 -> 4 neurons)\n",
    "        self.W2 = np.random.randn(4, 3)   # Hidden Layer 1 to Hidden Layer 2 (4 -> 3)\n",
    "        self.W3 = np.random.randn(3, 1)   # Hidden Layer 2 to Output (3 -> 1)\n",
    "\n",
    "    def sigmoid(self, x, deriv=False):\n",
    "        if deriv:\n",
    "            return x * (1 - x)\n",
    "        return 1 / (1 + np.exp(-x))\n",
    "\n",
    "    def forward(self, X):\n",
    "        self.z1 = np.dot(X, self.W1)\n",
    "        self.a1 = self.sigmoid(self.z1)\n",
    "\n",
    "        self.z2 = np.dot(self.a1, self.W2)\n",
    "        self.a2 = self.sigmoid(self.z2)\n",
    "\n",
    "        self.z3 = np.dot(self.a2, self.W3)\n",
    "        self.output = self.sigmoid(self.z3)\n",
    "        return self.output\n",
    "\n",
    "    def backward(self, X, y, output):\n",
    "        error3 = output - y\n",
    "        delta3 = error3 * self.sigmoid(output, deriv=True)\n",
    "\n",
    "        error2 = delta3.dot(self.W3.T)\n",
    "        delta2 = error2 * self.sigmoid(self.a2, deriv=True)\n",
    "\n",
    "        error1 = delta2.dot(self.W2.T)\n",
    "        delta1 = error1 * self.sigmoid(self.a1, deriv=True)\n",
    "\n",
    "        # Update weights\n",
    "        self.W3 -= self.alpha * self.a2.T.dot(delta3)\n",
    "        self.W2 -= self.alpha * self.a1.T.dot(delta2)\n",
    "        self.W1 -= self.alpha * X.T.dot(delta1)\n",
    "\n",
    "    def train(self, X, y, epochs=10000):\n",
    "        for _ in range(epochs):\n",
    "            output = self.forward(X)\n",
    "            self.backward(X, y, output)\n"
   ]
  },
  {
   "cell_type": "code",
   "execution_count": 10,
   "metadata": {},
   "outputs": [
    {
     "name": "stdout",
     "output_type": "stream",
     "text": [
      "Predictions:\n",
      "[[0.  ]\n",
      " [0.01]\n",
      " [0.01]\n",
      " [0.99]]\n"
     ]
    }
   ],
   "source": [
    "# Example: Training for AND gate\n",
    "X = np.array([[0,0], [0,1], [1,0], [1,1]])\n",
    "y = np.array([[0], [0], [0], [1]])\n",
    "\n",
    "nn = DeepNeuralNetwork(alpha=0.5)\n",
    "nn.train(X, y)\n",
    "print(\"Predictions:\")\n",
    "print(np.round(nn.forward(X), 2))"
   ]
  },
  {
   "cell_type": "code",
   "execution_count": 14,
   "metadata": {},
   "outputs": [
    {
     "name": "stdout",
     "output_type": "stream",
     "text": [
      "[[0.00617347]\n",
      " [0.99023469]\n",
      " [0.9907566 ]\n",
      " [0.01487493]]\n"
     ]
    }
   ],
   "source": [
    "X = np.array([[0,0], [0,1], [1,0], [1,1]])\n",
    "y = np.array([[0], [1], [1], [0]])\n",
    "\n",
    "# Train network\n",
    "nn = DeepNeuralNetwork(alpha=0.5)\n",
    "nn.train(X, y)\n",
    "\n",
    "# Test predictions\n",
    "print(nn.forward(X))"
   ]
  },
  {
   "cell_type": "code",
   "execution_count": 15,
   "metadata": {},
   "outputs": [
    {
     "name": "stdout",
     "output_type": "stream",
     "text": [
      "NAND predictions:\n",
      "[[1.  ]\n",
      " [0.99]\n",
      " [0.99]\n",
      " [0.01]]\n"
     ]
    }
   ],
   "source": [
    "# NAND dataset\n",
    "X = np.array([[0,0], [0,1], [1,0], [1,1]])\n",
    "y = np.array([[1], [1], [1], [0]])  # NAND truth table\n",
    "\n",
    "nn = DeepNeuralNetwork(alpha=0.5)\n",
    "nn.train(X, y)\n",
    "print(\"NAND predictions:\")\n",
    "print(np.round(nn.forward(X), 2))"
   ]
  },
  {
   "cell_type": "code",
   "execution_count": 16,
   "metadata": {},
   "outputs": [
    {
     "name": "stdout",
     "output_type": "stream",
     "text": [
      "NOR predictions:\n",
      "[[0.99]\n",
      " [0.01]\n",
      " [0.01]\n",
      " [0.  ]]\n"
     ]
    }
   ],
   "source": [
    "# NOR dataset\n",
    "X = np.array([[0,0], [0,1], [1,0], [1,1]])\n",
    "y = np.array([[1], [0], [0], [0]])  # NOR truth table\n",
    "\n",
    "nn = DeepNeuralNetwork(alpha=0.5)\n",
    "nn.train(X, y)\n",
    "print(\"NOR predictions:\")\n",
    "print(np.round(nn.forward(X), 2))"
   ]
  },
  {
   "cell_type": "code",
   "execution_count": 17,
   "metadata": {},
   "outputs": [
    {
     "name": "stdout",
     "output_type": "stream",
     "text": [
      "OR predictions:\n",
      "[[0.12]\n",
      " [0.94]\n",
      " [0.94]\n",
      " [0.96]]\n"
     ]
    }
   ],
   "source": [
    "# OR dataset\n",
    "X = np.array([[0,0], [0,1], [1,0], [1,1]])\n",
    "y = np.array([[0], [1], [1], [1]])  # OR truth table\n",
    "\n",
    "nn = DeepNeuralNetwork(alpha=0.5)\n",
    "nn.train(X, y)\n",
    "print(\"OR predictions:\")\n",
    "print(np.round(nn.forward(X), 2))"
   ]
  },
  {
   "cell_type": "code",
   "execution_count": null,
   "metadata": {},
   "outputs": [],
   "source": []
  }
 ],
 "metadata": {
  "colab": {
   "provenance": []
  },
  "kernelspec": {
   "display_name": "Python 3 (ipykernel)",
   "language": "python",
   "name": "python3"
  },
  "language_info": {
   "codemirror_mode": {
    "name": "ipython",
    "version": 3
   },
   "file_extension": ".py",
   "mimetype": "text/x-python",
   "name": "python",
   "nbconvert_exporter": "python",
   "pygments_lexer": "ipython3",
   "version": "3.10.11"
  }
 },
 "nbformat": 4,
 "nbformat_minor": 4
}
