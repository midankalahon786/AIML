{
 "cells": [
  {
   "cell_type": "markdown",
   "id": "55a9afae-5fa2-4909-8918-8cd683f93aac",
   "metadata": {},
   "source": [
    "LINEAR MODEL WITHOUT PYTHON LIBRARIES"
   ]
  },
  {
   "cell_type": "code",
   "execution_count": 66,
   "id": "9dc51f59-5f1b-4f8c-adbe-640101d5c412",
   "metadata": {},
   "outputs": [],
   "source": [
    "# Training data\n",
    "x_data = [1.0, 2.0, 3.0]\n",
    "y_data = [3.0, 6.0, 9.0]\n",
    "\n",
    "# Initial weight\n",
    "w = 1.0"
   ]
  },
  {
   "cell_type": "code",
   "execution_count": 67,
   "id": "158b8d1e-b3bc-4044-9e9c-c78bde4db8e6",
   "metadata": {},
   "outputs": [],
   "source": [
    "# Model prediction\n",
    "def forward(x):\n",
    "    return x * w"
   ]
  },
  {
   "cell_type": "code",
   "execution_count": 68,
   "id": "5ee18777-f5dc-488f-aa86-28c5bd7b3b4c",
   "metadata": {},
   "outputs": [],
   "source": [
    "# Loss function (Mean Squared Error)\n",
    "def loss(x, y):\n",
    "    y_pred = forward(x)\n",
    "    return (y_pred - y) ** 2"
   ]
  },
  {
   "cell_type": "code",
   "execution_count": 69,
   "id": "4e8f434b-17c7-4e16-9875-ce0d70c56643",
   "metadata": {},
   "outputs": [],
   "source": [
    "# Gradient of loss w.r.t w\n",
    "def gradient(x, y):\n",
    "    return 2 * x * (forward(x) - y)"
   ]
  },
  {
   "cell_type": "code",
   "execution_count": 70,
   "id": "2c4a2746-0bfb-45ca-9bb5-f5ef1ceea04a",
   "metadata": {},
   "outputs": [
    {
     "name": "stdout",
     "output_type": "stream",
     "text": [
      "Prediction (before training) 5 5.0\n"
     ]
    }
   ],
   "source": [
    "# Before training prediction\n",
    "print(\"Prediction (before training)\", 5, forward(5))"
   ]
  },
  {
   "cell_type": "code",
   "execution_count": 71,
   "id": "122b1fca-0ea9-48a3-9438-4feb0a6dc9ea",
   "metadata": {},
   "outputs": [
    {
     "name": "stdout",
     "output_type": "stream",
     "text": [
      "Progress: 0 w = 1.52 loss = 19.68\n",
      "Progress: 1 w = 1.91 loss = 10.76\n",
      "Progress: 2 w = 2.19 loss = 5.88\n",
      "Progress: 3 w = 2.4 loss = 3.21\n",
      "Progress: 4 w = 2.56 loss = 1.76\n",
      "Progress: 5 w = 2.67 loss = 0.96\n",
      "Progress: 6 w = 2.76 loss = 0.52\n",
      "Progress: 7 w = 2.82 loss = 0.29\n",
      "Progress: 8 w = 2.87 loss = 0.16\n",
      "Progress: 9 w = 2.9 loss = 0.09\n",
      "Progress: 10 w = 2.93 loss = 0.05\n",
      "Progress: 11 w = 2.95 loss = 0.03\n",
      "Progress: 12 w = 2.96 loss = 0.01\n",
      "Progress: 13 w = 2.97 loss = 0.01\n",
      "Progress: 14 w = 2.98 loss = 0.0\n",
      "Progress: 15 w = 2.98 loss = 0.0\n",
      "Progress: 16 w = 2.99 loss = 0.0\n",
      "Progress: 17 w = 2.99 loss = 0.0\n",
      "Progress: 18 w = 2.99 loss = 0.0\n",
      "Progress: 19 w = 3.0 loss = 0.0\n"
     ]
    }
   ],
   "source": [
    "# Training loop\n",
    "for epoch in range(20):                        #This loop trains the model for 10 iterations (called epochs).\n",
    "    for x_val, y_val in zip(x_data, y_data):\n",
    "        grad = gradient(x_val, y_val)\n",
    "        w = w - 0.01 * grad\n",
    "        # print(\"\\tgrad:\", x_val, y_val, round(grad, 2))\n",
    "        l = loss(x_val, y_val)\n",
    "    print(\"Progress:\", epoch, \"w =\", round(w, 2), \"loss =\", round(l, 2))"
   ]
  },
  {
   "cell_type": "code",
   "execution_count": 72,
   "id": "738dba2d-ca62-4cbe-80a1-a46ce808c763",
   "metadata": {},
   "outputs": [
    {
     "name": "stdout",
     "output_type": "stream",
     "text": [
      "Predicted Score (after training) 4 hours of studying: 14.976201197307649\n"
     ]
    }
   ],
   "source": [
    "# After training prediction\n",
    "print(\"Predicted Score (after training)\", \"4 hours of studying:\", forward(5))"
   ]
  },
  {
   "cell_type": "markdown",
   "id": "737176c1-ab29-4457-9a69-fdc39adee28a",
   "metadata": {},
   "source": [
    "***Univariate Linear Regression with Gradient Descent***"
   ]
  },
  {
   "cell_type": "code",
   "execution_count": 93,
   "id": "8c9f345b-09bd-4f42-8598-ed6e2503bf5c",
   "metadata": {},
   "outputs": [],
   "source": [
    "import numpy as np\n",
    "import pandas as pd\n",
    "import matplotlib.pyplot as plt"
   ]
  },
  {
   "cell_type": "code",
   "execution_count": 94,
   "id": "9953e21d-226d-4061-a8cd-e426293752b7",
   "metadata": {},
   "outputs": [],
   "source": [
    "# Load data\n",
    "data = pd.read_csv(\"ex1data1.txt\", header=None)\n",
    "X = data.iloc[:, 0].values\n",
    "Y = data.iloc[:, 1].values\n",
    "m = len(Y)  # Number of training examples"
   ]
  },
  {
   "cell_type": "code",
   "execution_count": 95,
   "id": "2d067de7-2ddd-438f-8a6b-54c358ae195c",
   "metadata": {},
   "outputs": [],
   "source": [
    "# Reshape for matrix operations\n",
    "X = X[:, np.newaxis]\n",
    "Y = Y[:, np.newaxis]"
   ]
  },
  {
   "cell_type": "code",
   "execution_count": 96,
   "id": "d739f15a-1a14-4d6e-917d-3212fd7c7b29",
   "metadata": {},
   "outputs": [],
   "source": [
    "# Add intercept term (column of ones)\n",
    "ones = np.ones((m, 1))\n",
    "X = np.hstack((ones, X))"
   ]
  },
  {
   "cell_type": "code",
   "execution_count": 97,
   "id": "98593184-9a50-45a9-b37a-cd57c3bd2585",
   "metadata": {},
   "outputs": [],
   "source": [
    "# Initialize parameters\n",
    "theta = np.zeros((2, 1))  # Instead of np.zeroes"
   ]
  },
  {
   "cell_type": "code",
   "execution_count": 98,
   "id": "e3df9ffb-6855-4123-bb23-fb03be261b23",
   "metadata": {},
   "outputs": [],
   "source": [
    "# Hyperparameters\n",
    "epochs = 1500\n",
    "alpha = 0.01"
   ]
  },
  {
   "cell_type": "code",
   "execution_count": 99,
   "id": "8c440965-0cb4-4aaf-ba69-af8d38f62017",
   "metadata": {},
   "outputs": [],
   "source": [
    "# Cost function\n",
    "def computeCost(X, Y, theta):\n",
    "    predictions = np.dot(X, theta)\n",
    "    errors = predictions - Y\n",
    "    return np.sum(errors ** 2) / (2 * m)"
   ]
  },
  {
   "cell_type": "code",
   "execution_count": 100,
   "id": "55a39026-199b-4343-822b-f41cf67df862",
   "metadata": {},
   "outputs": [],
   "source": [
    "# Gradient descent function\n",
    "def gradientDescent(X, Y, theta, alpha, iterations):\n",
    "    for _ in range(iterations):\n",
    "        predictions = np.dot(X, theta)\n",
    "        errors = predictions - Y\n",
    "        gradient = np.dot(X.T, errors)\n",
    "        theta -= (alpha / m) * gradient\n",
    "    return theta"
   ]
  },
  {
   "cell_type": "code",
   "execution_count": 101,
   "id": "c41b339d-69a2-43c7-9141-5dd5db1685bf",
   "metadata": {},
   "outputs": [
    {
     "name": "stdout",
     "output_type": "stream",
     "text": [
      "Initial cost: 32.072733877455676\n"
     ]
    }
   ],
   "source": [
    "# Compute initial cost\n",
    "J = computeCost(X, Y, theta)\n",
    "print(\"Initial cost:\", J)"
   ]
  },
  {
   "cell_type": "code",
   "execution_count": 102,
   "id": "5041dfb4-caba-49a8-ba90-1483b5bb168c",
   "metadata": {},
   "outputs": [
    {
     "name": "stdout",
     "output_type": "stream",
     "text": [
      "Learned theta: [[-3.63029144]\n",
      " [ 1.16636235]]\n"
     ]
    }
   ],
   "source": [
    "# Train model\n",
    "theta = gradientDescent(X, Y, theta, alpha, epochs)\n",
    "print(\"Learned theta:\", theta)"
   ]
  },
  {
   "cell_type": "code",
   "execution_count": 103,
   "id": "a501f670-3534-40de-afe2-66774ba1fbdd",
   "metadata": {},
   "outputs": [
    {
     "data": {
      "image/png": "[encoded data removed]",
      "text/plain": [
       "<Figure size 640x480 with 1 Axes>"
      ]
     },
     "metadata": {},
     "output_type": "display_data"
    }
   ],
   "source": [
    "# Plotting\n",
    "plt.scatter(X[:, 1], Y, label=\"Training data\")\n",
    "plt.plot(X[:, 1], np.dot(X, theta), color='red', label=\"Linear regression\")\n",
    "plt.xlabel(\"Population of City in 10,000s\")\n",
    "plt.ylabel(\"Profit in $10,000s\")\n",
    "plt.legend()\n",
    "plt.show()"
   ]
  },
  {
   "cell_type": "code",
   "execution_count": null,
   "id": "6698b3a9-6ffe-4731-bccf-0d01dc28bd51",
   "metadata": {},
   "outputs": [],
   "source": []
  },
  {
   "cell_type": "code",
   "execution_count": null,
   "id": "4bf48877-9611-44b7-b5fc-c1dd3448f87f",
   "metadata": {},
   "outputs": [],
   "source": []
  }
 ],
 "metadata": {
  "kernelspec": {
   "display_name": "Python 3 (ipykernel)",
   "language": "python",
   "name": "python3"
  },
  "language_info": {
   "codemirror_mode": {
    "name": "ipython",
    "version": 3
   },
   "file_extension": ".py",
   "mimetype": "text/x-python",
   "name": "python",
   "nbconvert_exporter": "python",
   "pygments_lexer": "ipython3",
   "version": "3.10.11"
  }
 },
 "nbformat": 4,
 "nbformat_minor": 5
}
